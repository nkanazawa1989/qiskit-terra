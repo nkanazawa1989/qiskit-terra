{
 "cells": [
  {
   "cell_type": "markdown",
   "metadata": {},
   "source": [
    "# Examples of scheduled circuit  (circuit with duration)"
   ]
  },
  {
   "cell_type": "markdown",
   "metadata": {},
   "source": [
    "## Current status\n",
    "1. [x] Adding a Delay instruction for circuits\n",
    "2. [x] Two scheduling passes for implementing ALAP and ASAP by inserting Delays on the DAGCircuit.\n",
    "```\n",
    "from qiskit.transpiler.passes.scheduling import ASAPSchedule, ALAPSchedule\n",
    "dag_with_delays = ALAPSchedule(backend_properties).run(dag)\n",
    "```\n",
    "3. [x] A simple scheduled_circuit.draw() to visualize timed blocks on the qubits\n",
    "4. [x] Another scheduler that approximates the schedule by timesteps.\n",
    "5. [x] Assembly to Qobj.\n",
    "```\n",
    "For qobj instructions something like:\n",
    "{\"name\": \"delay\", \"qubits\": [i], \"params\": [length], \"duration\": length}  # \"duration\" may be optional\n",
    "{\"name\": \"cx\", \"qubits\": [i,j], \"duration\": 320}  # \"duration\" may be optional\n",
    "and\n",
    "{\"name\": \"timestep\", \"qubits\": [0,...,N-1], \"params\": [length], \"duration\": 0}  # \"duration\" may be optional\n",
    "{\"name\": \"barrier\", \"qubits\": [0,...,N-1], \"duration\": 0}  # \"duration\" may be optional\n",
    "the lengths would have to be relative to a dt parameter in the noise model \n",
    "```\n",
    "6. [x] Integrate into transpile().\n",
    "```\n",
    "scehduled_circuit = qiskit.compiler.transpile(circuit, backend, , coupling_map, gate_lengths = [(\"cx\", [0, 1], 300), ...],\n",
    "                                              layout_method=..., routing_method=..., scheduling_method=...)\n",
    "```\n",
    "7. [x] A sequencer: Schedulce circuit -> Pulse schedule\n",
    "```\n",
    "pulse_schedule = qiskit.compiler.sequence(scheduled_circuit, backend)\n",
    "```"
   ]
  },
  {
   "cell_type": "code",
   "execution_count": 1,
   "metadata": {},
   "outputs": [
    {
     "name": "stdout",
     "output_type": "stream",
     "text": [
      "dt=2.2222222222222221e-10\n"
     ]
    }
   ],
   "source": [
    "from qiskit import transpile\n",
    "from qiskit import QuantumCircuit\n",
    "from qiskit.test.mock.backends import FakeParis\n",
    "backend = FakeParis()\n",
    "print(f\"dt={backend.configuration().dt}\")"
   ]
  },
  {
   "cell_type": "markdown",
   "metadata": {},
   "source": [
    "## Manual construction of T2 experiment"
   ]
  },
  {
   "cell_type": "code",
   "execution_count": 2,
   "metadata": {},
   "outputs": [
    {
     "data": {
      "text/html": [
       "<pre style=\"word-wrap: normal;white-space: pre;background: #fff0;line-height: 1.1;font-family: &quot;Courier New&quot;,Courier,monospace\">     ┌───┐┌────────────┐┌───┐┌─┐\n",
       "q_0: ┤ H ├┤ DELAY(500) ├┤ H ├┤M├\n",
       "     └───┘└────────────┘└───┘└╥┘\n",
       "c_0: ═════════════════════════╩═\n",
       "                                </pre>"
      ],
      "text/plain": [
       "     ┌───┐┌────────────┐┌───┐┌─┐\n",
       "q_0: ┤ H ├┤ DELAY(500) ├┤ H ├┤M├\n",
       "     └───┘└────────────┘└───┘└╥┘\n",
       "c_0: ═════════════════════════╩═\n",
       "                                "
      ]
     },
     "execution_count": 2,
     "metadata": {},
     "output_type": "execute_result"
    }
   ],
   "source": [
    "qc = QuantumCircuit(1, 1, name=\"t2_experiment\")\n",
    "qc.h(0)\n",
    "qc.delay(500, 0, unit='ns')\n",
    "qc.h(0)\n",
    "qc.measure(0, 0)\n",
    "qc.draw()"
   ]
  },
  {
   "cell_type": "code",
   "execution_count": 3,
   "metadata": {
    "scrolled": true
   },
   "outputs": [
    {
     "data": {
      "text/plain": [
       "         |--------------------------------------------------------------|\n",
       "q_0 -> 0 | U2(0,pi)[160] | DELAY[2250] | U2(0,pi)[160] | MEASURE[19200] |\n",
       "         |--------------------------------------------------------------|"
      ]
     },
     "execution_count": 3,
     "metadata": {},
     "output_type": "execute_result"
    }
   ],
   "source": [
    "# 500 ns = 2250 dt in FakeParis backend\n",
    "sc = transpile(qc, backend, scheduling_method='alap')\n",
    "sc.draw(output='timeline', qubits=[0])"
   ]
  },
  {
   "cell_type": "markdown",
   "metadata": {},
   "source": [
    "## Schedule circuits with scheduling passes"
   ]
  },
  {
   "cell_type": "code",
   "execution_count": 4,
   "metadata": {},
   "outputs": [],
   "source": [
    "from qiskit.converters import circuit_to_dag, dag_to_circuit\n",
    "from qiskit.transpiler.instruction_durations import InstructionDurations\n",
    "from qiskit.transpiler.passes.scheduling.asap import ASAPSchedule\n",
    "from qiskit.transpiler.passes.scheduling.alap import ALAPSchedule"
   ]
  },
  {
   "cell_type": "code",
   "execution_count": 5,
   "metadata": {},
   "outputs": [
    {
     "data": {
      "text/html": [
       "<pre style=\"word-wrap: normal;white-space: pre;background: #fff0;line-height: 1.1;font-family: &quot;Courier New&quot;,Courier,monospace\">         ┌───┐          \n",
       "q_0: ────┤ H ├───────■──\n",
       "     ┌───┴───┴────┐┌─┴─┐\n",
       "q_1: ┤ DELAY(500) ├┤ X ├\n",
       "     └────────────┘└───┘</pre>"
      ],
      "text/plain": [
       "         ┌───┐          \n",
       "q_0: ────┤ H ├───────■──\n",
       "     ┌───┴───┴────┐┌─┴─┐\n",
       "q_1: ┤ DELAY(500) ├┤ X ├\n",
       "     └────────────┘└───┘"
      ]
     },
     "execution_count": 5,
     "metadata": {},
     "output_type": "execute_result"
    }
   ],
   "source": [
    "qc = QuantumCircuit(2, name=\"bell_with_delay\")\n",
    "qc.h(0)\n",
    "qc.delay(500, 1)\n",
    "qc.cx(0,1)\n",
    "qc.draw()"
   ]
  },
  {
   "cell_type": "code",
   "execution_count": 6,
   "metadata": {
    "scrolled": true
   },
   "outputs": [
    {
     "data": {
      "text/plain": [
       "               |--------------------------------------------|\n",
       "      q_0 -> 0 | DELAY[340] | U2(0,pi)[160] | CX(0,1)[1408] |\n",
       "      q_1 -> 1 |         DELAY[500]         | CX(0,1)[1408] |\n",
       "ancilla_0 -> 2 |                DELAY[1908]                 |\n",
       "               |--------------------------------------------|"
      ]
     },
     "execution_count": 6,
     "metadata": {},
     "output_type": "execute_result"
    }
   ],
   "source": [
    "sc = transpile(qc, backend, scheduling_method='alap')\n",
    "sc.draw(output='timeline', qubits=[0,1,2])"
   ]
  },
  {
   "cell_type": "markdown",
   "metadata": {},
   "source": [
    "The above is the same as below."
   ]
  },
  {
   "cell_type": "code",
   "execution_count": 7,
   "metadata": {},
   "outputs": [
    {
     "data": {
      "text/plain": [
       "     |--------------------------------------------|\n",
       "q_0: | DELAY[340] | U2(0,pi)[160] | CX(0,1)[1408] |\n",
       "q_1: |         DELAY[500]         | CX(0,1)[1408] |\n",
       "q_2: |                DELAY[1908]                 |\n",
       "     |--------------------------------------------|"
      ]
     },
     "execution_count": 7,
     "metadata": {},
     "output_type": "execute_result"
    }
   ],
   "source": [
    "transpiled = transpile(qc, backend, basis_gates=['u1', 'u2', 'u3', 'cx', 'delay'])\n",
    "dag = circuit_to_dag(transpiled)\n",
    "dag_with_delays = ALAPSchedule(InstructionDurations.from_backend(backend)).run(dag)\n",
    "scheduled = dag_to_circuit(dag_with_delays)\n",
    "scheduled.draw(output='timeline', qubits=[0,1,2])"
   ]
  },
  {
   "cell_type": "markdown",
   "metadata": {},
   "source": [
    "###  ASAP or ALAP Schedule"
   ]
  },
  {
   "cell_type": "code",
   "execution_count": 8,
   "metadata": {},
   "outputs": [
    {
     "data": {
      "text/html": [
       "<pre style=\"word-wrap: normal;white-space: pre;background: #fff0;line-height: 1.1;font-family: &quot;Courier New&quot;,Courier,monospace\">     ┌───┐\n",
       "q_0: ┤ H ├\n",
       "     ├───┤\n",
       "q_1: ┤ X ├\n",
       "     └───┘</pre>"
      ],
      "text/plain": [
       "     ┌───┐\n",
       "q_0: ┤ H ├\n",
       "     ├───┤\n",
       "q_1: ┤ X ├\n",
       "     └───┘"
      ]
     },
     "execution_count": 8,
     "metadata": {},
     "output_type": "execute_result"
    }
   ],
   "source": [
    "qc = QuantumCircuit(2, name=\"h2\")\n",
    "qc.h(0)\n",
    "qc.x(1)\n",
    "qc.draw()"
   ]
  },
  {
   "cell_type": "code",
   "execution_count": 9,
   "metadata": {},
   "outputs": [
    {
     "data": {
      "text/plain": [
       "         |----------------------------|\n",
       "q_0 -> 0 | U2(0,pi)[160] | DELAY[160] |\n",
       "q_1 -> 1 |      U3(pi,0,pi)[320]      |\n",
       "         |----------------------------|"
      ]
     },
     "execution_count": 9,
     "metadata": {},
     "output_type": "execute_result"
    }
   ],
   "source": [
    "#ASAP\n",
    "sc = transpile(qc, backend, scheduling_method='asap', coupling_map=[[0,1]])\n",
    "sc.draw(output='timeline')"
   ]
  },
  {
   "cell_type": "code",
   "execution_count": 10,
   "metadata": {},
   "outputs": [
    {
     "data": {
      "text/plain": [
       "         |----------------------------|\n",
       "q_0 -> 0 | DELAY[160] | U2(0,pi)[160] |\n",
       "q_1 -> 1 |      U3(pi,0,pi)[320]      |\n",
       "         |----------------------------|"
      ]
     },
     "execution_count": 10,
     "metadata": {},
     "output_type": "execute_result"
    }
   ],
   "source": [
    "#ALAP\n",
    "sc = transpile(qc, backend, scheduling_method='alap', coupling_map=[[0,1]])\n",
    "sc.draw(output='timeline')"
   ]
  },
  {
   "cell_type": "markdown",
   "metadata": {},
   "source": [
    "###  Schedule passes convert the duration units into dt (values are rounded)"
   ]
  },
  {
   "cell_type": "code",
   "execution_count": 11,
   "metadata": {
    "scrolled": true
   },
   "outputs": [
    {
     "name": "stderr",
     "output_type": "stream",
     "text": [
      "/Users/itoko/swd/qiskit-dev/qiskit-sdk-py/qiskit/transpiler/passes/scheduling/delayindt.py:71: UserWarning: Duration of delay is rounded to 4496 dt = 9.991111e-07 s from 9.990000e-07\n",
      "  UserWarning)\n"
     ]
    },
    {
     "data": {
      "text/plain": [
       "         |---------------------------------------------|\n",
       "q_0 -> 0 | DELAY[4336] | U2(0,pi)[160] | CX(0,1)[1408] |\n",
       "q_1 -> 1 |         DELAY[4496]         | CX(0,1)[1408] |\n",
       "         |---------------------------------------------|"
      ]
     },
     "execution_count": 11,
     "metadata": {},
     "output_type": "execute_result"
    }
   ],
   "source": [
    "bell = QuantumCircuit(2, name=\"bell_with_manual_delay_ns\")\n",
    "bell.h(0)\n",
    "bell.delay(999, 1, unit='ns')\n",
    "bell.cx(0,1)\n",
    "sc_bell = transpile(bell, backend, scheduling_method='alap', coupling_map=[[0,1]])\n",
    "sc_bell.draw(output='timeline')"
   ]
  },
  {
   "cell_type": "code",
   "execution_count": 12,
   "metadata": {
    "scrolled": true
   },
   "outputs": [
    {
     "data": {
      "text/plain": [
       "         |--------------------------------------------|\n",
       "q_0 -> 0 | DELAY[839] | U2(0,pi)[160] | CX(0,1)[1408] |\n",
       "q_1 -> 1 |         DELAY[999]         | CX(0,1)[1408] |\n",
       "         |--------------------------------------------|"
      ]
     },
     "execution_count": 12,
     "metadata": {},
     "output_type": "execute_result"
    }
   ],
   "source": [
    "bell = QuantumCircuit(2, name=\"bell_with_manual_delay_unitless\")\n",
    "bell.h(0)\n",
    "bell.delay(999, 1)\n",
    "bell.cx(0,1)\n",
    "sc_bell = transpile(bell, backend, scheduling_method='alap', coupling_map=[[0,1]])\n",
    "sc_bell.draw(output='timeline')"
   ]
  },
  {
   "cell_type": "markdown",
   "metadata": {},
   "source": [
    "##  Assembly qobj"
   ]
  },
  {
   "cell_type": "code",
   "execution_count": 13,
   "metadata": {
    "scrolled": true
   },
   "outputs": [
    {
     "data": {
      "text/html": [
       "<pre style=\"word-wrap: normal;white-space: pre;background: #fff0;line-height: 1.1;font-family: &quot;Courier New&quot;,Courier,monospace\">            ┌───┐           ░ ┌─┐   \n",
       "   q_0: ────┤ H ├───────■───░─┤M├───\n",
       "        ┌───┴───┴────┐┌─┴─┐ ░ └╥┘┌─┐\n",
       "   q_1: ┤ DELAY(500) ├┤ X ├─░──╫─┤M├\n",
       "        └────────────┘└───┘ ░  ║ └╥┘\n",
       "meas_0: ═══════════════════════╩══╬═\n",
       "                                  ║ \n",
       "meas_1: ══════════════════════════╩═\n",
       "                                    </pre>"
      ],
      "text/plain": [
       "            ┌───┐           ░ ┌─┐   \n",
       "   q_0: ────┤ H ├───────■───░─┤M├───\n",
       "        ┌───┴───┴────┐┌─┴─┐ ░ └╥┘┌─┐\n",
       "   q_1: ┤ DELAY(500) ├┤ X ├─░──╫─┤M├\n",
       "        └────────────┘└───┘ ░  ║ └╥┘\n",
       "meas_0: ═══════════════════════╩══╬═\n",
       "                                  ║ \n",
       "meas_1: ══════════════════════════╩═\n",
       "                                    "
      ]
     },
     "execution_count": 13,
     "metadata": {},
     "output_type": "execute_result"
    }
   ],
   "source": [
    "qc = QuantumCircuit(2, name=\"bell_with_delay\")\n",
    "qc.h(0)\n",
    "qc.delay(500, 1, unit='ns')\n",
    "qc.cx(0,1)\n",
    "qc.measure_all()\n",
    "qc.draw()"
   ]
  },
  {
   "cell_type": "code",
   "execution_count": 14,
   "metadata": {},
   "outputs": [
    {
     "data": {
      "text/plain": [
       "         |----------------------------------------------------------------------\n",
       "q_0 -> 0 | DELAY[2090] | U2(0,pi)[160] | CX(0,1)[1408] | BARRIER(0,1)[0] | MEASU\n",
       "q_1 -> 1 |         DELAY[2250]         | CX(0,1)[1408] | BARRIER(0,1)[0] | MEASU\n",
       "         |----------------------------------------------------------------------\n",
       "----------|\n",
       "RE[19200] |\n",
       "RE[19200] |\n",
       "----------|"
      ]
     },
     "execution_count": 14,
     "metadata": {},
     "output_type": "execute_result"
    }
   ],
   "source": [
    "sc = transpile(qc, backend, scheduling_method='alap', coupling_map=[[0,1]])\n",
    "sc.draw(output='timeline')"
   ]
  },
  {
   "cell_type": "code",
   "execution_count": 15,
   "metadata": {},
   "outputs": [
    {
     "name": "stdout",
     "output_type": "stream",
     "text": [
      "\n",
      "\tInstruction: delay\n",
      "\t\tparams: [2090]\n",
      "\t\tqubits: [0]\n",
      "\t\tduration: 2090\n",
      "\n",
      "\tInstruction: u2\n",
      "\t\tparams: [0.0, 3.141592653589793]\n",
      "\t\tqubits: [0]\n",
      "\t\tduration: 160\n",
      "\n",
      "\tInstruction: delay\n",
      "\t\tparams: [2250]\n",
      "\t\tqubits: [1]\n",
      "\t\tduration: 2250\n",
      "\n",
      "\tInstruction: cx\n",
      "\t\tqubits: [0, 1]\n",
      "\t\tduration: 1408\n",
      "\n",
      "\tInstruction: barrier\n",
      "\t\tqubits: [0, 1]\n",
      "\t\tduration: 0\n",
      "\n",
      "\tInstruction: measure\n",
      "\t\tqubits: [0]\n",
      "\t\tmemory: [0]\n",
      "\t\tduration: 19200\n",
      "\n",
      "\tInstruction: measure\n",
      "\t\tqubits: [1]\n",
      "\t\tmemory: [1]\n",
      "\t\tduration: 19200\n",
      "\n",
      "\n"
     ]
    }
   ],
   "source": [
    "from qiskit import assemble\n",
    "qobj = assemble(sc, backend=backend, shots=1000)\n",
    "print(\"\\n\".join(str(qobj).split('\\n')[-35:]))"
   ]
  },
  {
   "cell_type": "code",
   "execution_count": 16,
   "metadata": {},
   "outputs": [
    {
     "name": "stdout",
     "output_type": "stream",
     "text": [
      "\n",
      "\tInstruction: u2\n",
      "\t\tparams: [0.0, 3.141592653589793]\n",
      "\t\tqubits: [0]\n",
      "\n",
      "\tInstruction: delay\n",
      "\t\tparams: [500]\n",
      "\t\tqubits: [1]\n",
      "\t\tduration: 500\n",
      "\n",
      "\tInstruction: cx\n",
      "\t\tqubits: [0, 1]\n",
      "\n",
      "\tInstruction: barrier\n",
      "\t\tqubits: [0, 1]\n",
      "\n",
      "\tInstruction: measure\n",
      "\t\tqubits: [0]\n",
      "\t\tmemory: [0]\n",
      "\n",
      "\tInstruction: measure\n",
      "\t\tqubits: [1]\n",
      "\t\tmemory: [1]\n",
      "\n",
      "\n"
     ]
    }
   ],
   "source": [
    "transpiled = transpile(qc, backend=backend, basis_gates=['u1', 'u2', 'u3', 'cx', 'delay'])\n",
    "qobj = assemble(transpiled, backend=backend, shots=1000)\n",
    "print(\"\\n\".join(str(qobj).split('\\n')[-25:]))"
   ]
  },
  {
   "cell_type": "markdown",
   "metadata": {},
   "source": [
    "##  Timesteps"
   ]
  },
  {
   "cell_type": "code",
   "execution_count": 17,
   "metadata": {
    "scrolled": true
   },
   "outputs": [
    {
     "data": {
      "text/html": [
       "<pre style=\"word-wrap: normal;white-space: pre;background: #fff0;line-height: 1.1;font-family: &quot;Courier New&quot;,Courier,monospace\">            ┌───┐           ░ ┌─┐   \n",
       "   q_0: ────┤ H ├───────■───░─┤M├───\n",
       "        ┌───┴───┴────┐┌─┴─┐ ░ └╥┘┌─┐\n",
       "   q_1: ┤ DELAY(500) ├┤ X ├─░──╫─┤M├\n",
       "        └────────────┘└───┘ ░  ║ └╥┘\n",
       "meas_0: ═══════════════════════╩══╬═\n",
       "                                  ║ \n",
       "meas_1: ══════════════════════════╩═\n",
       "                                    </pre>"
      ],
      "text/plain": [
       "            ┌───┐           ░ ┌─┐   \n",
       "   q_0: ────┤ H ├───────■───░─┤M├───\n",
       "        ┌───┴───┴────┐┌─┴─┐ ░ └╥┘┌─┐\n",
       "   q_1: ┤ DELAY(500) ├┤ X ├─░──╫─┤M├\n",
       "        └────────────┘└───┘ ░  ║ └╥┘\n",
       "meas_0: ═══════════════════════╩══╬═\n",
       "                                  ║ \n",
       "meas_1: ══════════════════════════╩═\n",
       "                                    "
      ]
     },
     "execution_count": 17,
     "metadata": {},
     "output_type": "execute_result"
    }
   ],
   "source": [
    "qc = QuantumCircuit(2, name=\"bell_with_delay\")\n",
    "qc.h(0)\n",
    "qc.delay(500, 1)\n",
    "qc.cx(0,1)\n",
    "qc.measure_all()\n",
    "qc.draw()"
   ]
  },
  {
   "cell_type": "code",
   "execution_count": 18,
   "metadata": {},
   "outputs": [
    {
     "data": {
      "text/plain": [
       "         |----------------------------------------------------------------------\n",
       "q_0 -> 0 | DELAY[340] | TIMESTEP(340)(0,1)[0] | U2(0,pi)[160] | TIMESTEP(160)(0,\n",
       "q_1 -> 1 | DELAY[340] | TIMESTEP(340)(0,1)[0] |   DELAY[160]  | TIMESTEP(160)(0,\n",
       "         |----------------------------------------------------------------------\n",
       "--------------------------------------------------------------------------------\n",
       "1)[0] | CX(0,1)[1408] | TIMESTEP(1408)(0,1)[0] | BARRIER(0,1)[0] | MEASURE[19200\n",
       "1)[0] | CX(0,1)[1408] | TIMESTEP(1408)(0,1)[0] | BARRIER(0,1)[0] | MEASURE[19200\n",
       "--------------------------------------------------------------------------------\n",
       "----------------------------|\n",
       "] | TIMESTEP(19200)(0,1)[0] |\n",
       "] | TIMESTEP(19200)(0,1)[0] |\n",
       "----------------------------|"
      ]
     },
     "execution_count": 18,
     "metadata": {},
     "output_type": "execute_result"
    }
   ],
   "source": [
    "sc = transpile(qc, backend, scheduling_method='alap_timestep', coupling_map=[[0,1]])\n",
    "sc.draw(output='timeline')"
   ]
  },
  {
   "cell_type": "code",
   "execution_count": 19,
   "metadata": {},
   "outputs": [
    {
     "name": "stdout",
     "output_type": "stream",
     "text": [
      "QASM Qobj: 96366745-cfcf-4231-a056-2ca3992858f0:\n",
      "Config: {'memory': False,\n",
      " 'memory_slots': 2,\n",
      " 'n_qubits': 2,\n",
      " 'parameter_binds': [],\n",
      " 'shots': 1000}\n",
      "Header: {'backend_name': 'fake_paris', 'backend_version': '1.0.3'}\n",
      "Experiments:\n",
      "\n",
      "QASM Experiment:\n",
      "Header:\n",
      "{'clbit_labels': [['meas', 0], ['meas', 1]],\n",
      " 'creg_sizes': [['meas', 2]],\n",
      " 'memory_slots': 2,\n",
      " 'n_qubits': 2,\n",
      " 'name': 'bell_with_delay',\n",
      " 'qreg_sizes': [['q', 2]],\n",
      " 'qubit_labels': [['q', 0], ['q', 1]]}\n",
      "Config:\n",
      "{'memory_slots': 2, 'n_qubits': 2}\n",
      "\n",
      "\tInstruction: delay\n",
      "\t\tparams: [340]\n",
      "\t\tqubits: [0]\n",
      "\t\tduration: 340\n",
      "\n",
      "\tInstruction: delay\n",
      "\t\tparams: [340]\n",
      "\t\tqubits: [1]\n",
      "\t\tduration: 340\n",
      "\n",
      "\tInstruction: timestep\n",
      "\t\tparams: [340]\n",
      "\t\tqubits: [0, 1]\n",
      "\t\tduration: 0\n",
      "\n",
      "\tInstruction: u2\n",
      "\t\tparams: [0.0, 3.141592653589793]\n",
      "\t\tqubits: [0]\n",
      "\t\tduration: 160\n",
      "\n",
      "\tInstruction: delay\n",
      "\t\tparams: [160]\n",
      "\t\tqubits: [1]\n",
      "\t\tduration: 160\n",
      "\n",
      "\tInstruction: timestep\n",
      "\t\tparams: [160]\n",
      "\t\tqubits: [0, 1]\n",
      "\t\tduration: 0\n",
      "\n",
      "\tInstruction: cx\n",
      "\t\tqubits: [0, 1]\n",
      "\t\tduration: 1408\n",
      "\n",
      "\tInstruction: timestep\n",
      "\t\tparams: [1408]\n",
      "\t\tqubits: [0, 1]\n",
      "\t\tduration: 0\n",
      "\n",
      "\tInstruction: barrier\n",
      "\t\tqubits: [0, 1]\n",
      "\t\tduration: 0\n",
      "\n",
      "\tInstruction: measure\n",
      "\t\tqubits: [0]\n",
      "\t\tmemory: [0]\n",
      "\t\tduration: 19200\n",
      "\n",
      "\tInstruction: measure\n",
      "\t\tqubits: [1]\n",
      "\t\tmemory: [1]\n",
      "\t\tduration: 19200\n",
      "\n",
      "\tInstruction: timestep\n",
      "\t\tparams: [19200]\n",
      "\t\tqubits: [0, 1]\n",
      "\t\tduration: 0\n",
      "\n",
      "\n"
     ]
    }
   ],
   "source": [
    "from qiskit import assemble\n",
    "qobj = assemble(sc, backend=backend, shots=1000)\n",
    "print(\"\\n\".join(str(qobj).split('\\n')))"
   ]
  },
  {
   "cell_type": "code",
   "execution_count": 20,
   "metadata": {
    "scrolled": true
   },
   "outputs": [
    {
     "data": {
      "text/html": [
       "<pre style=\"word-wrap: normal;white-space: pre;background: #fff0;line-height: 1.1;font-family: &quot;Courier New&quot;,Courier,monospace\">     ┌─────┐┌─────┐                        \n",
       "q_0: ┤ U20 ├┤ U20 ├────────────────────────\n",
       "     └┬────┤└┬────┤┌────┐┌────┐┌────┐┌────┐\n",
       "q_1: ─┤ U7 ├─┤ U7 ├┤ U7 ├┤ U7 ├┤ U7 ├┤ U7 ├\n",
       "      └────┘ └────┘└────┘└────┘└────┘└────┘</pre>"
      ],
      "text/plain": [
       "     ┌─────┐┌─────┐                        \n",
       "q_0: ┤ U20 ├┤ U20 ├────────────────────────\n",
       "     └┬────┤└┬────┤┌────┐┌────┐┌────┐┌────┐\n",
       "q_1: ─┤ U7 ├─┤ U7 ├┤ U7 ├┤ U7 ├┤ U7 ├┤ U7 ├\n",
       "      └────┘ └────┘└────┘└────┘└────┘└────┘"
      ]
     },
     "execution_count": 20,
     "metadata": {},
     "output_type": "execute_result"
    }
   ],
   "source": [
    "import numpy as np\n",
    "from qiskit.extensions import UnitaryGate\n",
    "U20 = UnitaryGate(np.eye(2), label=\"U20\")\n",
    "U20.duration = 20\n",
    "U7 = UnitaryGate(np.eye(2), label=\"U7\")\n",
    "U7.duration = 7\n",
    "qc = QuantumCircuit(2, name=\"U20-U7\")\n",
    "qc.append(U20, [0])\n",
    "qc.append(U20, [0])\n",
    "qc.append(U7, [1])\n",
    "qc.append(U7, [1])\n",
    "qc.append(U7, [1])\n",
    "qc.append(U7, [1])\n",
    "qc.append(U7, [1])\n",
    "qc.append(U7, [1])\n",
    "qc.draw()"
   ]
  },
  {
   "cell_type": "code",
   "execution_count": 21,
   "metadata": {},
   "outputs": [
    {
     "data": {
      "text/plain": [
       "         |----------------------------------------------------------------------\n",
       "q_0 -> 0 | DELAY[7] | TIMESTEP(7)(0,1)[0] | DELAY[7] | TIMESTEP(7)(0,1)[0] |    \n",
       "q_1 -> 1 |    U7    | TIMESTEP(7)(0,1)[0] |    U7    | TIMESTEP(7)(0,1)[0] | DEL\n",
       "         |----------------------------------------------------------------------\n",
       "---------------------------------------------------------------------------|\n",
       "  U20       | TIMESTEP(20)(0,1)[0] |      U20       | TIMESTEP(20)(0,1)[0] |\n",
       "AY[6] |U7|U7| TIMESTEP(20)(0,1)[0] | DELAY[6] |U7|U7| TIMESTEP(20)(0,1)[0] |\n",
       "---------------------------------------------------------------------------|"
      ]
     },
     "execution_count": 21,
     "metadata": {},
     "output_type": "execute_result"
    }
   ],
   "source": [
    "sc = transpile(qc, backend, basis_gates=['unitary'], scheduling_method='alap_timestep', coupling_map=[[0,1]])\n",
    "sc.draw(output='timeline', qubits=[0, 1])"
   ]
  },
  {
   "cell_type": "markdown",
   "metadata": {},
   "source": [
    "## Second path (circuit -> scheduled circuit -> pulse schedule)"
   ]
  },
  {
   "cell_type": "code",
   "execution_count": 22,
   "metadata": {
    "scrolled": true
   },
   "outputs": [
    {
     "data": {
      "text/html": [
       "<pre style=\"word-wrap: normal;white-space: pre;background: #fff0;line-height: 1.1;font-family: &quot;Courier New&quot;,Courier,monospace\">        ┌───┐      ░ ┌─┐   \n",
       "   q_0: ┤ H ├──■───░─┤M├───\n",
       "        └───┘┌─┴─┐ ░ └╥┘┌─┐\n",
       "   q_1: ─────┤ X ├─░──╫─┤M├\n",
       "             └───┘ ░  ║ └╥┘\n",
       "meas_0: ══════════════╩══╬═\n",
       "                         ║ \n",
       "meas_1: ═════════════════╩═\n",
       "                           </pre>"
      ],
      "text/plain": [
       "        ┌───┐      ░ ┌─┐   \n",
       "   q_0: ┤ H ├──■───░─┤M├───\n",
       "        └───┘┌─┴─┐ ░ └╥┘┌─┐\n",
       "   q_1: ─────┤ X ├─░──╫─┤M├\n",
       "             └───┘ ░  ║ └╥┘\n",
       "meas_0: ══════════════╩══╬═\n",
       "                         ║ \n",
       "meas_1: ═════════════════╩═\n",
       "                           "
      ]
     },
     "execution_count": 22,
     "metadata": {},
     "output_type": "execute_result"
    }
   ],
   "source": [
    "qc = QuantumCircuit(2, name=\"bell\")\n",
    "qc.h(0)\n",
    "qc.cx(0,1)\n",
    "qc.measure_all()\n",
    "qc.draw()"
   ]
  },
  {
   "cell_type": "markdown",
   "metadata": {},
   "source": [
    "### Second path (circuit -> scheduled circuit -> pulse schedule)"
   ]
  },
  {
   "cell_type": "code",
   "execution_count": 23,
   "metadata": {},
   "outputs": [
    {
     "data": {
      "image/png": "[encoded data removed]",
      "text/plain": [
       "<Figure size 720x864 with 2 Axes>"
      ]
     },
     "execution_count": 23,
     "metadata": {},
     "output_type": "execute_result"
    }
   ],
   "source": [
    "from qiskit.compiler.sequence import sequence\n",
    "sc = transpile(qc, backend, scheduling_method='alap', coupling_map=[[0,1],[1,2]])\n",
    "sched = sequence(sc, backend)\n",
    "sched.draw()"
   ]
  },
  {
   "cell_type": "markdown",
   "metadata": {},
   "source": [
    "### Current path (circuit -> unrolled circuit -> pulse schedule)"
   ]
  },
  {
   "cell_type": "code",
   "execution_count": 24,
   "metadata": {},
   "outputs": [
    {
     "data": {
      "image/png": "[encoded data removed]",
      "text/plain": [
       "<Figure size 720x864 with 2 Axes>"
      ]
     },
     "execution_count": 24,
     "metadata": {},
     "output_type": "execute_result"
    }
   ],
   "source": [
    "from qiskit import schedule\n",
    "# sched_path1 = schedule(qc, backend)  # we cannot do this because schedule requires unrolled circuit\n",
    "sched_path1 = schedule(qc.decompose(), backend)  # works in this case\n",
    "# You need transpile() in general to unroll\n",
    "# transpiled = transpile(qc, backend, basis_gates=['u1', 'u2', 'u3', 'cx'], coupling_map=[[0,1],[1,2]])\n",
    "# sched_path1 = schedule(transpiled, backend)\n",
    "sched_path1.draw()"
   ]
  },
  {
   "cell_type": "markdown",
   "metadata": {},
   "source": [
    "## InstructionDurations"
   ]
  },
  {
   "cell_type": "code",
   "execution_count": 25,
   "metadata": {},
   "outputs": [
    {
     "data": {
      "text/plain": [
       "1408"
      ]
     },
     "execution_count": 25,
     "metadata": {},
     "output_type": "execute_result"
    }
   ],
   "source": [
    "durations = InstructionDurations.from_backend(backend)\n",
    "durations.get('cx', [0, 1])"
   ]
  },
  {
   "cell_type": "code",
   "execution_count": 26,
   "metadata": {},
   "outputs": [
    {
     "data": {
      "text/plain": [
       "160"
      ]
     },
     "execution_count": 26,
     "metadata": {},
     "output_type": "execute_result"
    }
   ],
   "source": [
    "durations.get('u2', [0])"
   ]
  },
  {
   "cell_type": "markdown",
   "metadata": {},
   "source": [
    "### use durations defined in backend"
   ]
  },
  {
   "cell_type": "code",
   "execution_count": 27,
   "metadata": {},
   "outputs": [
    {
     "name": "stdout",
     "output_type": "stream",
     "text": [
      "         ┌───┐          \n",
      "q_0: ────┤ H ├───────■──\n",
      "     ┌───┴───┴────┐┌─┴─┐\n",
      "q_1: ┤ DELAY(500) ├┤ X ├\n",
      "     └────────────┘└───┘\n"
     ]
    }
   ],
   "source": [
    "qc = QuantumCircuit(2)\n",
    "qc.h(0)\n",
    "qc.delay(500, 1)\n",
    "qc.cx(0,1)\n",
    "print(qc)"
   ]
  },
  {
   "cell_type": "code",
   "execution_count": 28,
   "metadata": {},
   "outputs": [
    {
     "data": {
      "text/plain": [
       "         |--------------------------------------------|\n",
       "q_0 -> 0 | U2(0,pi)[160] | DELAY[340] | CX(0,1)[1408] |\n",
       "q_1 -> 1 |         DELAY[500]         | CX(0,1)[1408] |\n",
       "         |--------------------------------------------|"
      ]
     },
     "execution_count": 28,
     "metadata": {},
     "output_type": "execute_result"
    }
   ],
   "source": [
    "scheduled = transpile(qc,\n",
    "                      backend=backend,\n",
    "                      scheduling_method='asap')\n",
    "scheduled.draw(output='timeline', qubits=[0, 1])"
   ]
  },
  {
   "cell_type": "markdown",
   "metadata": {},
   "source": [
    "### overwite with custom durations"
   ]
  },
  {
   "cell_type": "code",
   "execution_count": 29,
   "metadata": {},
   "outputs": [
    {
     "data": {
      "text/plain": [
       "         |--------------------------------------------|\n",
       "q_0 -> 0 | U2(0,pi)[160] | DELAY[340] | CX(0,1)[1000] |\n",
       "q_1 -> 1 |         DELAY[500]         | CX(0,1)[1000] |\n",
       "         |--------------------------------------------|"
      ]
     },
     "execution_count": 29,
     "metadata": {},
     "output_type": "execute_result"
    }
   ],
   "source": [
    "scheduled = transpile(qc,\n",
    "                      backend=backend,\n",
    "                      scheduling_method='asap',\n",
    "                      instruction_durations=[('cx', [0, 1], 1000)])\n",
    "scheduled.draw(output='timeline', qubits=[0, 1])"
   ]
  },
  {
   "cell_type": "markdown",
   "metadata": {},
   "source": [
    "### full custom durations"
   ]
  },
  {
   "cell_type": "code",
   "execution_count": 30,
   "metadata": {},
   "outputs": [
    {
     "data": {
      "text/plain": [
       "     |--------------------------------------------|\n",
       "q_0: | U2(0,pi)[100] | DELAY[400] | CX(0,1)[1000] |\n",
       "q_1: |         DELAY[500]         | CX(0,1)[1000] |\n",
       "     |--------------------------------------------|"
      ]
     },
     "execution_count": 30,
     "metadata": {},
     "output_type": "execute_result"
    }
   ],
   "source": [
    "scheduled = transpile(qc,\n",
    "                      # no backend\n",
    "                      scheduling_method='asap',\n",
    "                      instruction_durations=[('u2', [0], 100), ('cx', [0, 1], 1000)],\n",
    "                      basis_gates=['u1', 'u2', 'u3', 'cx', 'delay'])\n",
    "scheduled.draw(output='timeline', qubits=[0, 1])"
   ]
  },
  {
   "cell_type": "markdown",
   "metadata": {},
   "source": [
    "##  Issues identified"
   ]
  },
  {
   "cell_type": "markdown",
   "metadata": {},
   "source": [
    "- Should we output delay when qasm()? Will delay be included in QASM3? (related to https://github.com/Qiskit/qiskit-terra/issues/4312)\n",
    "- backend.properties should have all info about instruction durations.\n",
    "- How to distinguish regular circuit and scheduled circuit in the code level: `if self.duration` or `if isinstance(qc, ScheduleCircuit)` (currently `if self.duration`)"
   ]
  },
  {
   "cell_type": "markdown",
   "metadata": {},
   "source": [
    "##  Resolved"
   ]
  },
  {
   "cell_type": "markdown",
   "metadata": {},
   "source": [
    "1. Ignoring idle qubits should be done before scheduler (not in the scheduler)\n",
    "2. Implemented helper function to get duration of each instruction -> qiskit.transpiler.instruction_durations.InstructionDurations."
   ]
  },
  {
   "cell_type": "code",
   "execution_count": null,
   "metadata": {},
   "outputs": [],
   "source": []
  }
 ],
 "metadata": {
  "kernelspec": {
   "display_name": "Python 3",
   "language": "python",
   "name": "python3"
  },
  "language_info": {
   "codemirror_mode": {
    "name": "ipython",
    "version": 3
   },
   "file_extension": ".py",
   "mimetype": "text/x-python",
   "name": "python",
   "nbconvert_exporter": "python",
   "pygments_lexer": "ipython3",
   "version": "3.7.3"
  }
 },
 "nbformat": 4,
 "nbformat_minor": 2
}
